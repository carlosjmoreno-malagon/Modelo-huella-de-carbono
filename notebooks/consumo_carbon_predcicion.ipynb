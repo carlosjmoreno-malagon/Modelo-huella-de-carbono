{
 "cells": [
  {
   "cell_type": "code",
   "execution_count": null,
   "id": "4bbf7eca-1ef4-4aa6-b4be-9312524cf5ba",
   "metadata": {},
   "outputs": [],
   "source": [
    "# Predicción de Consumo de Carbono con Gradient Boosting\n",
    "\n",
    "Este notebook implementa un modelo de **Gradient Boosting** para predecir el consumo de carbono de una persona en función de varios factores como su tipo de cuerpo, hábitos de transporte, reciclaje, entre otros.\n",
    "\n",
    "## Objetivo:\n",
    "Utilizar un modelo de machine learning para detectar el consumo de carbono basado en los datos disponibles.\n",
    "\n"
   ]
  },
  {
   "cell_type": "code",
   "execution_count": null,
   "id": "6acc2fd1-7162-445f-ac6f-4f5d93aa459c",
   "metadata": {},
   "outputs": [],
   "source": [
    "Limpieza de la informacion"
   ]
  },
  {
   "cell_type": "code",
   "execution_count": null,
   "id": "4c2dcd4f-ffd9-4e16-a128-b10d01be4676",
   "metadata": {},
   "outputs": [],
   "source": [
    "import pandas as pd\n",
    "import re\n",
    "\n",
    "# Cargar el archivo CSV\n",
    "file_path = \"carbono.csv\"  \n",
    "df = pd.read_csv(file_path)\n",
    "\n",
    "# Función para limpiar y organizar las columnas\n",
    "def limpiar_columna(val):\n",
    "    if pd.isna(val):\n",
    "        return val\n",
    "    # Eliminar comillas simples y dobles\n",
    "    val = val.replace(\"'\", \"\").replace('\"', '')\n",
    "    # Separar elementos por comas y eliminar espacios adicionales\n",
    "    val = ' '.join(val.split())\n",
    "    # Reemplazar múltiples comas consecutivas con una sola coma\n",
    "    val = re.sub(r',+', ',', val)\n",
    "    # Asegurarse de que las comas estén seguidas por un espacio si no lo están\n",
    "    val = ', '.join([x.strip() for x in val.split(',') if x.strip()])\n",
    "    return val\n",
    "\n",
    "# Aplicar la función a las columnas Cooking_With y Recycling\n",
    "df['Cooking_With'] = df['Cooking_With'].apply(limpiar_columna)\n",
    "df['Recycling'] = df['Recycling'].apply(limpiar_columna)\n",
    "\n",
    "# Guardar el DataFrame modificado en un nuevo archivo CSV\n",
    "output_file_path = \"carbono.csv\"\n",
    "df.to_csv(output_file_path, index=False)\n",
    "\n",
    "print(f\"Limpieza completada. Archivo guardado como {output_file_path}.\")\n"
   ]
  },
  {
   "cell_type": "code",
   "execution_count": null,
   "id": "6a4a9cf3-3916-4b4b-8bf9-4c1ef4a9e884",
   "metadata": {},
   "outputs": [],
   "source": [
    "Carga de datos"
   ]
  },
  {
   "cell_type": "code",
   "execution_count": null,
   "id": "8d61d029-fb2e-4e21-9481-e97d8ef5d869",
   "metadata": {},
   "outputs": [],
   "source": [
    "#Carga de los datos que se van a usar\n",
    "from collections import Counter\n",
    "import pandas as pd\n",
    "from sklearn.model_selection import train_test_split, GridSearchCV\n",
    "from sklearn.ensemble import RandomForestRegressor\n",
    "from sklearn.preprocessing import OneHotEncoder, MinMaxScaler\n",
    "from sklearn.compose import ColumnTransformer\n",
    "from sklearn.metrics import mean_squared_error, r2_score,mean_absolute_error\n",
    "from imblearn.under_sampling import RandomUnderSampler\n",
    "\n",
    "# Leer el archivo CSV\n",
    "df = pd.read_csv('carbono.csv')\n",
    "df.head()"
   ]
  },
  {
   "cell_type": "code",
   "execution_count": null,
   "id": "5ce328bc-261c-440e-83fe-1b45d9f41b95",
   "metadata": {},
   "outputs": [],
   "source": [
    "Preprocesamiento de datos"
   ]
  },
  {
   "cell_type": "code",
   "execution_count": null,
   "id": "c7a65121-aa3c-44cd-bc69-100d96f2fc27",
   "metadata": {},
   "outputs": [],
   "source": [
    "# Define las columnas que se desea usar \n",
    "categorical_columns = [\n",
    "    'Body Type', 'Diet', 'How Often Shower', \n",
    "    'Heating Energy Source', 'Transport', 'Vehicle Type', \n",
    "    'Social Activity', 'Frequency of Traveling by Air', \n",
    "    'Waste Bag Size', 'Energy efficiency', 'Recycling', \n",
    "    'Cooking_With'\n",
    "]\n",
    "\n",
    "numeric_columns = [\n",
    "    'Monthly Grocery Bill', 'Vehicle Monthly Distance Km', \n",
    "    'Waste Bag Weekly Count', 'How Long TV PC Daily Hour', \n",
    "    'How Many New Clothes Monthly', 'How Long Internet Daily Hour'\n",
    "]\n"
   ]
  },
  {
   "cell_type": "code",
   "execution_count": null,
   "id": "7e561402-cbb3-4c4d-a167-4c5609690bff",
   "metadata": {},
   "outputs": [],
   "source": [
    "# Configuración del preprocesamiento óptimo para el entrenamiento del modelo\n",
    "\n",
    "onehotencoder = OneHotEncoder(sparse_output=False,drop='first') # Codificacion one-hot sin la primera categoria\n",
    "\n",
    "scaler = MinMaxScaler(feature_range=(-1,1)) # Ecalar variables al rango [-1,1]\n",
    "\n",
    "# Crear el transformador para aplicar las transformaciones\n",
    "prepocesamiento = ColumnTransformer(\n",
    "    transformers=[\n",
    "        ('cat', onehotencoder, categorical_columns),  # OneHotEncoder para categóricas\n",
    "        ('num', scaler, numeric_columns)  # MinMaxScaler para numéricas\n",
    "    ]\n",
    ")\n",
    "\n"
   ]
  },
  {
   "cell_type": "code",
   "execution_count": null,
   "id": "51a56da1-8fc9-4c0f-8c5f-c0c7e8fc3647",
   "metadata": {},
   "outputs": [],
   "source": [
    "# Aplicar el preprocesamiento configurado a los datos originales\n",
    "df_transformer = prepocesamiento.fit_transform(df)\n",
    "\n",
    "# Extraer las características generadas por el OneHotEncoder\n",
    "onehot_encoder_fitted = prepocesamiento.named_transformers_['cat']\n",
    "cat_feature_names = onehot_encoder_fitted.get_feature_names_out(categorical_columns)\n",
    "\n",
    "# Mantener los nombres de las columnas numéricas originales\n",
    "num_feature_names = numeric_columns\n",
    "\n",
    "# Combinar los nombres de todas las características (categóricas y numéricas)\n",
    "all_feature_names = list(cat_feature_names) + num_feature_names\n",
    "\n",
    "# Convertir el resultado del preprocesamiento en un DataFrame con nombres de columnas\n",
    "df_transformer = pd.DataFrame(df_transformer, columns=all_feature_names)\n",
    "\n",
    "# Definir la variable objetivo (CarbonEmission) separada del resto de los datos\n",
    "target = df['CarbonEmission']\n"
   ]
  },
  {
   "cell_type": "code",
   "execution_count": null,
   "id": "14885e05-54eb-4c77-812b-b1542dc8fc9f",
   "metadata": {},
   "outputs": [],
   "source": [
    "Entrenar el modelo de Gradient Boosting"
   ]
  },
  {
   "cell_type": "code",
   "execution_count": null,
   "id": "4d007c75-25cc-4561-aa5c-d496cb3800e2",
   "metadata": {},
   "outputs": [],
   "source": [
    "# Dividir el conjunto de datos en entrenamiento y prueba\n",
    "x_train, x_test, y_train, y_test = train_test_split(df_transformer, target, test_size=0.2, random_state=0)\n",
    "\n",
    "# Imprimir una muestra de los datos de entrenamiento (opcional para ver cómo se ven)\n",
    "# print(x_train, y_train)\n",
    "\n",
    "# Configurar el modelo de Gradient Boosting Regressor\n",
    "gmb = GradientBoostingRegressor(n_estimators=100, learning_rate=0.1, max_depth=5)\n",
    "\n",
    "# Entrenar el modelo con los datos de entrenamiento\n",
    "gmb.fit(x_train, y_train)\n"
   ]
  },
  {
   "cell_type": "code",
   "execution_count": null,
   "id": "b15d3f6c-d7c8-4990-8d26-8a24a43b30a7",
   "metadata": {},
   "outputs": [],
   "source": [
    "Evaluación del modelo"
   ]
  },
  {
   "cell_type": "code",
   "execution_count": null,
   "id": "16b8a51f-4a50-4a19-b6b0-3a57ea0f3e08",
   "metadata": {},
   "outputs": [],
   "source": [
    "# Realizar predicciones en el conjunto de prueba\n",
    "y_predict = gmb.predict(x_test)\n",
    "\n",
    "# Calcular el error cuadrático medio (MSE)\n",
    "mse = mean_squared_error(y_test, y_predict)\n",
    "\n",
    "# Calcular el error absoluto medio (MAE)\n",
    "mae = mean_absolute_error(y_test, y_predict)\n",
    "\n",
    "# Calcular el coeficiente de determinación (R^2)\n",
    "r2 = r2_score(y_test, y_predict)\n",
    "\n",
    "# Imprimir los resultados de las métricas de evaluación\n",
    "print(f'Margen de error (MSE): {mse}')\n",
    "print(f'Margen de error absoluto (MAE): {mae}')\n",
    "print(f'Coeficiente de determinación (R^2): {r2}')\n",
    "\n",
    "# Obtener las importancias de las características del modelo entrenado\n",
    "features_importance = gmb.feature_importances_\n",
    "\n",
    "# Imprimir las importancias de las características\n",
    "print('Importancia de las características: ')\n",
    "print(features_importance)\n"
   ]
  },
  {
   "cell_type": "code",
   "execution_count": null,
   "id": "d24be49c-2bf1-4c33-ba18-49fff468306f",
   "metadata": {},
   "outputs": [],
   "source": [
    "Exportacion del modelo "
   ]
  },
  {
   "cell_type": "code",
   "execution_count": null,
   "id": "16583c7c-40b0-4fca-9bf7-db5da83403ae",
   "metadata": {},
   "outputs": [],
   "source": [
    "# Guardar el modelo entrenado Gradient Boosting en un archivo utilizando joblib\n",
    "# Esto permite reutilizar el modelo sin necesidad de volver a entrenarlo.\n",
    "joblib.dump(gmb,'Boosting.joblib')\n",
    "\n",
    "# Guardar el preprocesamiento (ColumnTransformer) en un archivo \n",
    "# para aplicar la misma transformación a futuros datos.\n",
    "joblib.dump(prepocesamiento, 'prepocesamiento.joblib')"
   ]
  },
  {
   "cell_type": "code",
   "execution_count": null,
   "id": "f6019ccd-135f-4a52-b6df-1610df1280ef",
   "metadata": {},
   "outputs": [],
   "source": [
    "Conclucion"
   ]
  },
  {
   "cell_type": "code",
   "execution_count": null,
   "id": "405153cf-e9da-4565-beeb-2ef828ca8a48",
   "metadata": {},
   "outputs": [],
   "source": [
    "En este proyecto, se desarrolló un modelo de Gradient Boosting Regressor para predecir las emisiones de carbono de una persona. \n",
    "El proceso incluyó un preprocesamiento completo de los datos mediante codificación de variables categóricas y normalización de las variables numéricas. \n",
    "Posteriormente, el modelo fue entrenado y evaluado usando métricas clave como el Error Cuadrático Medio (MSE), el Error Absoluto Medio (MAE) y el Coeficiente de Determinación (R²), obteniendo un R² de 0.93, lo que indica un excelente ajuste del modelo a los datos."
   ]
  }
 ],
 "metadata": {
  "kernelspec": {
   "display_name": "Python 3 (ipykernel)",
   "language": "python",
   "name": "python3"
  },
  "language_info": {
   "codemirror_mode": {
    "name": "ipython",
    "version": 3
   },
   "file_extension": ".py",
   "mimetype": "text/x-python",
   "name": "python",
   "nbconvert_exporter": "python",
   "pygments_lexer": "ipython3",
   "version": "3.12.4"
  }
 },
 "nbformat": 4,
 "nbformat_minor": 5
}
